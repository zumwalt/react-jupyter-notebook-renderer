{
  "cells": [
    {
      "cell_type": "markdown",
      "metadata": {},
      "source": [
        "# Example Jupyter Notebook\n",
        "This notebook contains various cell types and content for testing purposes."
      ]
    },
    {
      "cell_type": "code",
      "execution_count": 1,
      "metadata": {},
      "outputs": [
        {
          "name": "stdout",
          "output_type": "stream",
          "text": [
            "Hello, World!"
          ]
        }
      ],
      "source": [
        "print(\"Hello, World!\")"
      ]
    },
    {
      "cell_type": "markdown",
      "metadata": {},
      "source": [
        "## Markdown Cell\n",
        "This is a markdown cell with various elements:\n",
        "- Bullet point\n",
        "- Another bullet point\n",
        "\n",
        "1. Numbered list\n",
        "2. Second item\n",
        "\n",
        "**Bold text** and *italic text*\n",
        "\n",
        "`inline code`\n",
        "\n",
        "```python\n",
        "# Code block in markdown\n",
        "def example_function():\n",
        "    pass\n",
        "```\n",
        "\n",
        "| Column 1 | Column 2 | Column 3 |\n",
        "|----------|----------|----------|\n",
        "| Row 1, Col 1 | Row 1, Col 2 | Row 1, Col 3 |\n",
        "| Row 2, Col 1 | Row 2, Col 2 | Row 2, Col 3 |\n",
        "\n",
        "Here's a [link to Google](https://www.google.com).\n",
        "\n",
        "And an base64 encoded SVG image (placeholder):\n",
        "![Placeholder Image](data:image/svg+xml;base64,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 \"This is a base64 encoded SVG\")\n",
        "\n",
        "Add a base64 encoded PNG image (placeholder):\n",
        "![Placeholder Image](data:image/png;base64,iVBORw0KGgoAAAANSUhEUgAAAAUA\n",
        "AAAFCAYAAACNbyblAAAAHElEQVQI12P4//8/w38GIAXDIBKE0DHxgljNBAAO9TXL0Y4OHwAAAABJRU5ErkJggg== \"This is a base64 encoded PNG\")\n",
        "\n",
        "Add a remote image (placeholder):\n",
        "![Placeholder Image](https://placehold.co/600x400/EEE/31343C \"This is a remote image\")"
      ]
    },
    {
      "cell_type": "code",
      "execution_count": 2,
      "metadata": {},
      "outputs": [
        {
          "data": {
            "text/plain": [
              "[1, 4, 9, 16, 25]"
            ]
          },
          "execution_count": 2,
          "metadata": {},
          "output_type": "execute_result"
        }
      ],
      "source": [
        "# Code cell with output\n",
        "squares = [x**2 for x in range(1, 6)]\n",
        "squares"
      ]
    },
    {
      "cell_type": "code",
      "execution_count": 3,
      "metadata": {},
      "outputs": [
        {
          "data": {
            "image/png": "[encoded data removed]",
            "text/plain": [
              "<matplotlib.figure.Figure at 0x7f8b1c3f3be0>"
            ]
          },
          "metadata": {},
          "output_type": "display_data"
        }
      ],
      "source": [
        "import matplotlib.pyplot as plt\n",
        "import numpy as np\n",
        "\n",
        "x = np.linspace(0, 10, 100)\n",
        "y = np.sin(x)\n",
        "plt.plot(x, y)\n",
        "plt.title('Sine Wave')\n",
        "plt.xlabel('x')\n",
        "plt.ylabel('sin(x)')\n",
        "plt.show()"
      ]
    },
    {
      "cell_type": "code",
      "execution_count": 4,
      "metadata": {},
      "outputs": [
        {
          "data": {
            "text/html": [
              "<div>\n",
              "  <style>\n",
              "    .dataframe thead tr:only-child th {\n",
              "        text-align: right;\n",
              "    }\n",
              "\n",
              "    .dataframe thead th {\n",
              "        text-align: left;\n",
              "    }\n",
              "\n",
              "    .dataframe tbody tr th {\n",
              "        vertical-align: top;\n",
              "    }\n",
              "  </style>\n",
              "  <table border=\"1\" class=\"dataframe\">\n",
              "    <thead>\n",
              "      <tr>\n",
              "        <th></th>\n",
              "        <th>A</th>\n",
              "        <th>B</th>\n",
              "        <th>C</th>\n",
              "      </tr>\n",
              "    </thead>\n",
              "    <tbody>\n",
              "      <tr>\n",
              "        <th>0</th>\n",
              "        <td>1</td>\n",
              "        <td>4</td>\n",
              "        <td>7</td>\n",
              "      </tr>\n",
              "      <tr>\n",
              "        <th>1</th>\n",
              "        <td>2</td>\n",
              "        <td>5</td>\n",
              "        <td>8</td>\n",
              "      </tr>\n",
              "      <tr>\n",
              "        <th>2</th>\n",
              "        <td>3</td>\n",
              "        <td>6</td>\n",
              "        <td>9</td>\n",
              "      </tr>\n",
              "    </tbody>\n",
              "  </table>\n",
              "</div>"
            ],
            "text/plain": [
              "   A  B  C\n",
              "0  1  4  7\n",
              "1  2  5  8\n",
              "2  3  6  9"
            ]
          },
          "execution_count": 4,
          "metadata": {},
          "output_type": "execute_result"
        }
      ],
      "source": [
        "import pandas as pd\n",
        "\n",
        "df = pd.DataFrame({'A': [1, 2, 3],\n",
        "                   'B': [4, 5, 6],\n",
        "                   'C': [7, 8, 9]})\n",
        "df"
      ]
    },
    {
      "cell_type": "code",
      "execution_count": 5,
      "metadata": {},
      "outputs": [
        {
          "name": "stdout",
          "output_type": "stream",
          "text": [
            "This is a multi-line output\n",
            "with ANSI color codes:\n",
            "\u001b[31mRed text\u001b[0m\n",
            "\u001b[32mGreen text\u001b[0m\n",
            "\u001b[34mBlue text\u001b[0m\n"
          ]
        }
      ],
      "source": [
        "print(\"This is a multi-line output\")\n",
        "print(\"with ANSI color codes:\")\n",
        "print(\"\\033[31mRed text\\033[0m\")\n",
        "print(\"\\033[32mGreen text\\033[0m\")\n",
        "print(\"\\033[34mBlue text\\033[0m\")"
      ]
    },
    {
      "cell_type": "code",
      "execution_count": 6,
      "metadata": {},
      "outputs": [
        {
          "name": "stderr",
          "output_type": "stream",
          "text": [
            "This is a warning message.\n"
          ]
        },
        {
          "ename": "ValueError",
          "evalue": "This is a sample error",
          "output_type": "error",
          "traceback": [
            "\u001b[0;31m---------------------------------------------------------------------------\u001b[0m",
            "\u001b[0;31mValueError\u001b[0m                                Traceback (most recent call last)",
            "\u001b[0;32m<ipython-input-6-db5e7f6b0f08>\u001b[0m in \u001b[0;36m<module>\u001b[0;34m\u001b[0m\n\u001b[1;32m      2\u001b[0m \u001b[0;34m\u001b[0m\u001b[0m\n\u001b[1;32m      3\u001b[0m \u001b[0mwarnings\u001b[0m\u001b[0;34m.\u001b[0m\u001b[0mwarn\u001b[0m\u001b[0;34m(\u001b[0m\u001b[0;34m\"This is a warning message.\"\u001b[0m\u001b[0;34m)\u001b[0m\u001b[0;34m\u001b[0m\u001b[0;34m\u001b[0m\u001b[0m\n\u001b[0;32m----> 4\u001b[0;31m \u001b[0;32mraise\u001b[0m \u001b[0mValueError\u001b[0m\u001b[0;34m(\u001b[0m\u001b[0;34m\"This is a sample error\"\u001b[0m\u001b[0;34m)\u001b[0m\u001b[0;34m\u001b[0m\u001b[0;34m\u001b[0m\u001b[0m\n\u001b[0m",
            "\u001b[0;31mValueError\u001b[0m: This is a sample error"
          ]
        }
      ],
      "source": [
        "import warnings\n",
        "\n",
        "warnings.warn(\"This is a warning message.\")\n",
        "raise ValueError(\"This is a sample error\")"
      ]
    },
    {
      "cell_type": "raw",
      "metadata": {},
      "source": [
        "This is a raw cell.\n",
        "Its contents are displayed as-is, without any formatting."
      ]
    }
  ],
  "metadata": {
    "kernelspec": {
      "display_name": "Python 3",
      "language": "python",
      "name": "python3"
    },
    "language_info": {
      "codemirror_mode": {
        "name": "ipython",
        "version": 3
      },
      "file_extension": ".py",
      "mimetype": "text/x-python",
      "name": "python",
      "nbconvert_exporter": "python",
      "pygments_lexer": "ipython3",
      "version": "3.8.8"
    }
  },
  "nbformat": 4,
  "nbformat_minor": 5
}
